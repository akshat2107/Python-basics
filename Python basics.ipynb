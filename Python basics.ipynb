{
 "cells": [
  {
   "cell_type": "markdown",
   "metadata": {},
   "source": [
    "# This is all about Python basics #"
   ]
  },
  {
   "cell_type": "code",
   "execution_count": 1,
   "metadata": {
    "collapsed": false
   },
   "outputs": [
    {
     "data": {
      "text/plain": [
       "' this is a multiline comment'"
      ]
     },
     "execution_count": 1,
     "metadata": {},
     "output_type": "execute_result"
    }
   ],
   "source": [
    " \"\"\" this is a multiline comment\"\"\""
   ]
  },
  {
   "cell_type": "code",
   "execution_count": 2,
   "metadata": {
    "collapsed": false
   },
   "outputs": [
    {
     "name": "stdout",
     "output_type": "stream",
     "text": [
      " this is a multiline comment\n"
     ]
    }
   ],
   "source": [
    "my_str= \"\"\" this is a multiline comment\"\"\"\n",
    "print(my_str)"
   ]
  },
  {
   "cell_type": "code",
   "execution_count": 3,
   "metadata": {
    "collapsed": true
   },
   "outputs": [],
   "source": [
    "#this is a comment"
   ]
  },
  {
   "cell_type": "code",
   "execution_count": 4,
   "metadata": {
    "collapsed": false
   },
   "outputs": [
    {
     "name": "stdout",
     "output_type": "stream",
     "text": [
      "<class 'str'>\n"
     ]
    }
   ],
   "source": [
    "print(type('str'))"
   ]
  },
  {
   "cell_type": "code",
   "execution_count": 5,
   "metadata": {
    "collapsed": false
   },
   "outputs": [
    {
     "name": "stdout",
     "output_type": "stream",
     "text": [
      "<class 'str'>\n"
     ]
    }
   ],
   "source": [
    "print(type(\"aaldsjd\"))"
   ]
  },
  {
   "cell_type": "code",
   "execution_count": 6,
   "metadata": {
    "collapsed": false
   },
   "outputs": [
    {
     "name": "stdout",
     "output_type": "stream",
     "text": [
      "<class 'str'>\n"
     ]
    }
   ],
   "source": [
    "print(type( \"\"\"ajflksjf\"\"\"))"
   ]
  },
  {
   "cell_type": "code",
   "execution_count": 7,
   "metadata": {
    "collapsed": true
   },
   "outputs": [],
   "source": [
    "x = 5"
   ]
  },
  {
   "cell_type": "code",
   "execution_count": 8,
   "metadata": {
    "collapsed": false
   },
   "outputs": [
    {
     "name": "stdout",
     "output_type": "stream",
     "text": [
      "<class 'int'>\n"
     ]
    }
   ],
   "source": [
    "print(type(x))"
   ]
  },
  {
   "cell_type": "code",
   "execution_count": 12,
   "metadata": {
    "collapsed": false
   },
   "outputs": [
    {
     "name": "stdout",
     "output_type": "stream",
     "text": [
      "Hey my name is akshat and my brother is ayush\n"
     ]
    }
   ],
   "source": [
    "my_str=\"Hey my name is %s and my brother is %s\" % (\"akshat\",\"ayush\")\n",
    "print(my_str)"
   ]
  },
  {
   "cell_type": "code",
   "execution_count": 13,
   "metadata": {
    "collapsed": true
   },
   "outputs": [],
   "source": [
    "my_str2 = \"Hey my name is {} and my brother name is {} and i am {} yrs old\".format(\"akshat\",\"ayush\",21)"
   ]
  },
  {
   "cell_type": "code",
   "execution_count": 14,
   "metadata": {
    "collapsed": false
   },
   "outputs": [
    {
     "name": "stdout",
     "output_type": "stream",
     "text": [
      "Hey my name is akshat and my brother name is ayush and i am 21 yrs old\n"
     ]
    }
   ],
   "source": [
    "print(my_str2)"
   ]
  },
  {
   "cell_type": "code",
   "execution_count": 15,
   "metadata": {
    "collapsed": true
   },
   "outputs": [],
   "source": [
    "#end and sep"
   ]
  },
  {
   "cell_type": "code",
   "execution_count": 17,
   "metadata": {
    "collapsed": false
   },
   "outputs": [
    {
     "name": "stdout",
     "output_type": "stream",
     "text": [
      "hello world\n",
      "everyone\n"
     ]
    }
   ],
   "source": [
    "print(\"hello world\")\n",
    "print(\"everyone\")"
   ]
  },
  {
   "cell_type": "code",
   "execution_count": 18,
   "metadata": {
    "collapsed": false
   },
   "outputs": [
    {
     "name": "stdout",
     "output_type": "stream",
     "text": [
      "hello world everyone\n"
     ]
    }
   ],
   "source": [
    "print(\"hello world\",end=\" \")\n",
    "print(\"everyone\")"
   ]
  },
  {
   "cell_type": "code",
   "execution_count": 19,
   "metadata": {
    "collapsed": false
   },
   "outputs": [
    {
     "name": "stdout",
     "output_type": "stream",
     "text": [
      "a b abc\n"
     ]
    }
   ],
   "source": [
    "print(\"a\",\"b\",\"abc\")"
   ]
  },
  {
   "cell_type": "code",
   "execution_count": 20,
   "metadata": {
    "collapsed": false
   },
   "outputs": [
    {
     "name": "stdout",
     "output_type": "stream",
     "text": [
      "a      b      c\n"
     ]
    }
   ],
   "source": [
    "print(\"a\",\"b\",\"c\",sep=\"      \")"
   ]
  },
  {
   "cell_type": "code",
   "execution_count": 21,
   "metadata": {
    "collapsed": false
   },
   "outputs": [
    {
     "name": "stdout",
     "output_type": "stream",
     "text": [
      "a\n",
      "b\n",
      "c\n"
     ]
    }
   ],
   "source": [
    "print(\"a\",\"b\",\"c\",sep=\"\\n\")"
   ]
  },
  {
   "cell_type": "code",
   "execution_count": 4,
   "metadata": {
    "collapsed": false
   },
   "outputs": [
    {
     "name": "stdout",
     "output_type": "stream",
     "text": [
      "enter something : 15\n"
     ]
    }
   ],
   "source": [
    "a=input(\"enter something : \")"
   ]
  },
  {
   "cell_type": "code",
   "execution_count": 5,
   "metadata": {
    "collapsed": false
   },
   "outputs": [
    {
     "data": {
      "text/plain": [
       "'15'"
      ]
     },
     "execution_count": 5,
     "metadata": {},
     "output_type": "execute_result"
    }
   ],
   "source": [
    "a"
   ]
  },
  {
   "cell_type": "code",
   "execution_count": 6,
   "metadata": {
    "collapsed": false
   },
   "outputs": [
    {
     "data": {
      "text/plain": [
       "str"
      ]
     },
     "execution_count": 6,
     "metadata": {},
     "output_type": "execute_result"
    }
   ],
   "source": [
    "type(a)"
   ]
  },
  {
   "cell_type": "code",
   "execution_count": 7,
   "metadata": {
    "collapsed": false
   },
   "outputs": [
    {
     "name": "stdout",
     "output_type": "stream",
     "text": [
      "<class 'str'>\n"
     ]
    }
   ],
   "source": [
    "print(type(a))"
   ]
  },
  {
   "cell_type": "code",
   "execution_count": 9,
   "metadata": {
    "collapsed": false
   },
   "outputs": [
    {
     "name": "stdout",
     "output_type": "stream",
     "text": [
      "enter a number: 25\n"
     ]
    }
   ],
   "source": [
    "num = int(input(\"enter a number: \"))"
   ]
  },
  {
   "cell_type": "code",
   "execution_count": 11,
   "metadata": {
    "collapsed": false
   },
   "outputs": [
    {
     "data": {
      "text/plain": [
       "25"
      ]
     },
     "execution_count": 11,
     "metadata": {},
     "output_type": "execute_result"
    }
   ],
   "source": [
    "num"
   ]
  },
  {
   "cell_type": "code",
   "execution_count": 1,
   "metadata": {
    "collapsed": true
   },
   "outputs": [],
   "source": [
    "#taking input in the form of numbers"
   ]
  },
  {
   "cell_type": "code",
   "execution_count": 3,
   "metadata": {
    "collapsed": false
   },
   "outputs": [],
   "source": [
    "l= \"10 20 30 40 50\""
   ]
  },
  {
   "cell_type": "code",
   "execution_count": 11,
   "metadata": {
    "collapsed": false
   },
   "outputs": [
    {
     "data": {
      "text/plain": [
       "['10', '20', '30', '40', '50']"
      ]
     },
     "execution_count": 11,
     "metadata": {},
     "output_type": "execute_result"
    }
   ],
   "source": [
    "l.split(\" \")"
   ]
  },
  {
   "cell_type": "code",
   "execution_count": 12,
   "metadata": {
    "collapsed": false
   },
   "outputs": [],
   "source": [
    "numbers = [int(no) for no in l.split()]"
   ]
  },
  {
   "cell_type": "code",
   "execution_count": 13,
   "metadata": {
    "collapsed": false
   },
   "outputs": [
    {
     "data": {
      "text/plain": [
       "[10, 20, 30, 40, 50]"
      ]
     },
     "execution_count": 13,
     "metadata": {},
     "output_type": "execute_result"
    }
   ],
   "source": [
    "numbers"
   ]
  },
  {
   "cell_type": "code",
   "execution_count": 16,
   "metadata": {
    "collapsed": false
   },
   "outputs": [
    {
     "name": "stdout",
     "output_type": "stream",
     "text": [
      "10 50 60 32 25\n"
     ]
    }
   ],
   "source": [
    "num = [int(no) for no in input().split()]"
   ]
  },
  {
   "cell_type": "code",
   "execution_count": 17,
   "metadata": {
    "collapsed": false
   },
   "outputs": [
    {
     "name": "stdout",
     "output_type": "stream",
     "text": [
      "[10, 50, 60, 32, 25]\n"
     ]
    }
   ],
   "source": [
    "print(num)"
   ]
  },
  {
   "cell_type": "code",
   "execution_count": 18,
   "metadata": {
    "collapsed": true
   },
   "outputs": [],
   "source": [
    "#operators"
   ]
  },
  {
   "cell_type": "code",
   "execution_count": 19,
   "metadata": {
    "collapsed": false
   },
   "outputs": [
    {
     "data": {
      "text/plain": [
       "1"
      ]
     },
     "execution_count": 19,
     "metadata": {},
     "output_type": "execute_result"
    }
   ],
   "source": [
    "10%3"
   ]
  },
  {
   "cell_type": "code",
   "execution_count": 20,
   "metadata": {
    "collapsed": false
   },
   "outputs": [
    {
     "data": {
      "text/plain": [
       "3.3333333333333335"
      ]
     },
     "execution_count": 20,
     "metadata": {},
     "output_type": "execute_result"
    }
   ],
   "source": [
    "10/3"
   ]
  },
  {
   "cell_type": "code",
   "execution_count": 23,
   "metadata": {
    "collapsed": false
   },
   "outputs": [
    {
     "data": {
      "text/plain": [
       "3"
      ]
     },
     "execution_count": 23,
     "metadata": {},
     "output_type": "execute_result"
    }
   ],
   "source": [
    "10//3 #floor division operator(rounds of the value)"
   ]
  },
  {
   "cell_type": "code",
   "execution_count": 24,
   "metadata": {
    "collapsed": false
   },
   "outputs": [
    {
     "data": {
      "text/plain": [
       "81"
      ]
     },
     "execution_count": 24,
     "metadata": {},
     "output_type": "execute_result"
    }
   ],
   "source": [
    "3**4 # for power it is **"
   ]
  },
  {
   "cell_type": "code",
   "execution_count": 28,
   "metadata": {
    "collapsed": false
   },
   "outputs": [
    {
     "name": "stdout",
     "output_type": "stream",
     "text": [
      "True\n"
     ]
    }
   ],
   "source": [
    "a = True\n",
    "b = False\n",
    "print(a or b)"
   ]
  },
  {
   "cell_type": "code",
   "execution_count": 29,
   "metadata": {
    "collapsed": false
   },
   "outputs": [
    {
     "name": "stdout",
     "output_type": "stream",
     "text": [
      "False\n"
     ]
    }
   ],
   "source": [
    "a = True\n",
    "b = False\n",
    "print(a and b)"
   ]
  },
  {
   "cell_type": "code",
   "execution_count": 30,
   "metadata": {
    "collapsed": true
   },
   "outputs": [],
   "source": [
    "#very simple challenge - print area and perimeter of a rectangle"
   ]
  },
  {
   "cell_type": "code",
   "execution_count": 31,
   "metadata": {
    "collapsed": false
   },
   "outputs": [
    {
     "name": "stdout",
     "output_type": "stream",
     "text": [
      "5\n",
      "4\n"
     ]
    }
   ],
   "source": [
    "l = int(input())\n",
    "b = int(input())"
   ]
  },
  {
   "cell_type": "code",
   "execution_count": 45,
   "metadata": {
    "collapsed": false
   },
   "outputs": [
    {
     "name": "stdout",
     "output_type": "stream",
     "text": [
      "perimeter is 18 and area is 20\n"
     ]
    }
   ],
   "source": [
    "per = 2*(l+b)\n",
    "area = l*b\n",
    "\n",
    "\n",
    "print(\"perimeter is %d and area is %d\" % (per,area))"
   ]
  },
  {
   "cell_type": "code",
   "execution_count": 46,
   "metadata": {
    "collapsed": true
   },
   "outputs": [],
   "source": [
    "#control flow"
   ]
  },
  {
   "cell_type": "code",
   "execution_count": 50,
   "metadata": {
    "collapsed": false
   },
   "outputs": [
    {
     "name": "stdout",
     "output_type": "stream",
     "text": [
      "enter age: 15\n",
      "hey teen!\n"
     ]
    }
   ],
   "source": [
    "age = int(input(\"enter age: \"))\n",
    "\n",
    "if age<10:\n",
    "    print(\"hey child!\")\n",
    "    print(\"How are you?\")\n",
    "    \n",
    "elif age<=20:\n",
    "    print(\"hey teen!\")\n",
    "\n",
    "else:\n",
    "    print(\"hey adult buddy!\")"
   ]
  },
  {
   "cell_type": "markdown",
   "metadata": {
    "collapsed": true
   },
   "source": [
    "\n",
    "### Loop ###"
   ]
  },
  {
   "cell_type": "code",
   "execution_count": 3,
   "metadata": {
    "collapsed": false
   },
   "outputs": [
    {
     "name": "stdout",
     "output_type": "stream",
     "text": [
      "Number 1\n",
      "Number 2\n",
      "Number 3\n",
      "Number 4\n",
      "Number 5\n",
      "Loop Finished\n"
     ]
    }
   ],
   "source": [
    "n=5\n",
    "i=1\n",
    "while i<=n:\n",
    "    print(\"Number %d\" % i)\n",
    "    i=i+1 #don't forget to give this increment in while loop\n",
    "print(\"Loop Finished\")"
   ]
  },
  {
   "cell_type": "code",
   "execution_count": 8,
   "metadata": {
    "collapsed": false
   },
   "outputs": [
    {
     "name": "stdout",
     "output_type": "stream",
     "text": [
      "1,3,5,7,9,"
     ]
    }
   ],
   "source": [
    "for x in range(1,10,2):\n",
    "    print(x,end = \",\")"
   ]
  },
  {
   "cell_type": "code",
   "execution_count": 10,
   "metadata": {
    "collapsed": false
   },
   "outputs": [
    {
     "name": "stdout",
     "output_type": "stream",
     "text": [
      "1\n",
      "3\n",
      "5\n",
      "7\n",
      "9\n"
     ]
    }
   ],
   "source": [
    "for x in range(1,10,2):\n",
    "    print(x,end = \"\\n\")"
   ]
  },
  {
   "cell_type": "code",
   "execution_count": 8,
   "metadata": {
    "collapsed": false
   },
   "outputs": [
    {
     "name": "stdout",
     "output_type": "stream",
     "text": [
      "At 0th we have red color\n",
      "At 1th we have blue color\n",
      "At 2th we have yellow color\n"
     ]
    }
   ],
   "source": [
    "#enumerate\n",
    "square = (\"red\",\"blue\",\"yellow\")\n",
    "for i,squares in enumerate(square): #argument in enumerate can be list also\n",
    "    print(\"At {}th index we have {} color\".format(i,squares))"
   ]
  },
  {
   "cell_type": "code",
   "execution_count": null,
   "metadata": {
    "collapsed": true
   },
   "outputs": [],
   "source": []
  },
  {
   "cell_type": "code",
   "execution_count": null,
   "metadata": {
    "collapsed": true
   },
   "outputs": [],
   "source": []
  },
  {
   "cell_type": "code",
   "execution_count": 11,
   "metadata": {
    "collapsed": true
   },
   "outputs": [],
   "source": [
    "# to print factorial of a no."
   ]
  },
  {
   "cell_type": "code",
   "execution_count": 23,
   "metadata": {
    "collapsed": false
   },
   "outputs": [
    {
     "name": "stdout",
     "output_type": "stream",
     "text": [
      "enter the number: \n"
     ]
    },
    {
     "ename": "ValueError",
     "evalue": "invalid literal for int() with base 10: ''",
     "output_type": "error",
     "traceback": [
      "\u001b[0;31m---------------------------------------------------------------------------\u001b[0m",
      "\u001b[0;31mValueError\u001b[0m                                Traceback (most recent call last)",
      "\u001b[0;32m<ipython-input-23-47fff71a114f>\u001b[0m in \u001b[0;36m<module>\u001b[0;34m()\u001b[0m\n\u001b[0;32m----> 1\u001b[0;31m \u001b[0mn\u001b[0m \u001b[1;33m=\u001b[0m \u001b[0mint\u001b[0m\u001b[1;33m(\u001b[0m\u001b[0minput\u001b[0m\u001b[1;33m(\u001b[0m\u001b[1;34m\"enter the number: \"\u001b[0m\u001b[1;33m)\u001b[0m\u001b[1;33m)\u001b[0m\u001b[1;33m\u001b[0m\u001b[0m\n\u001b[0m\u001b[1;32m      2\u001b[0m \u001b[0mfact\u001b[0m \u001b[1;33m=\u001b[0m \u001b[1;36m1\u001b[0m\u001b[1;33m;\u001b[0m\u001b[1;33m\u001b[0m\u001b[0m\n\u001b[1;32m      3\u001b[0m \u001b[1;32mwhile\u001b[0m \u001b[0mn\u001b[0m\u001b[1;33m!=\u001b[0m\u001b[1;36m0\u001b[0m\u001b[1;33m:\u001b[0m\u001b[1;33m\u001b[0m\u001b[0m\n\u001b[1;32m      4\u001b[0m     \u001b[0mfact\u001b[0m \u001b[1;33m*=\u001b[0m \u001b[0mn\u001b[0m\u001b[1;33m\u001b[0m\u001b[0m\n\u001b[1;32m      5\u001b[0m     \u001b[0mn\u001b[0m\u001b[1;33m=\u001b[0m\u001b[0mn\u001b[0m\u001b[1;33m-\u001b[0m\u001b[1;36m1\u001b[0m\u001b[1;33m\u001b[0m\u001b[0m\n",
      "\u001b[0;31mValueError\u001b[0m: invalid literal for int() with base 10: ''"
     ]
    }
   ],
   "source": [
    "n = int(input(\"enter the number: \"))\n",
    "fact = 1;\n",
    "while n!=0:\n",
    "    fact *= n\n",
    "    n=n-1\n",
    "print(\"factorial is %d\" % fact)"
   ]
  },
  {
   "cell_type": "code",
   "execution_count": 4,
   "metadata": {
    "collapsed": false
   },
   "outputs": [
    {
     "name": "stdout",
     "output_type": "stream",
     "text": [
      "5\n",
      "4\n",
      "3\n",
      "2\n",
      "1\n"
     ]
    }
   ],
   "source": [
    "for i in range(5,0,-1):\n",
    "    print(i)"
   ]
  },
  {
   "cell_type": "code",
   "execution_count": 19,
   "metadata": {
    "collapsed": true
   },
   "outputs": [],
   "source": [
    "# print 5x5 matrix in spiral form using nested loop"
   ]
  },
  {
   "cell_type": "code",
   "execution_count": 22,
   "metadata": {
    "collapsed": false
   },
   "outputs": [
    {
     "name": "stdout",
     "output_type": "stream",
     "text": [
      "enter the number: \n"
     ]
    },
    {
     "ename": "ValueError",
     "evalue": "invalid literal for int() with base 10: ''",
     "output_type": "error",
     "traceback": [
      "\u001b[0;31m---------------------------------------------------------------------------\u001b[0m",
      "\u001b[0;31mValueError\u001b[0m                                Traceback (most recent call last)",
      "\u001b[0;32m<ipython-input-22-66f306e62857>\u001b[0m in \u001b[0;36m<module>\u001b[0;34m()\u001b[0m\n\u001b[0;32m----> 1\u001b[0;31m \u001b[0mn\u001b[0m \u001b[1;33m=\u001b[0m \u001b[0mint\u001b[0m\u001b[1;33m(\u001b[0m\u001b[0minput\u001b[0m\u001b[1;33m(\u001b[0m\u001b[1;34m\"enter the number: \"\u001b[0m\u001b[1;33m)\u001b[0m\u001b[1;33m)\u001b[0m\u001b[1;33m\u001b[0m\u001b[0m\n\u001b[0m\u001b[1;32m      2\u001b[0m \u001b[1;32mfor\u001b[0m \u001b[0mx\u001b[0m \u001b[1;32min\u001b[0m \u001b[0mrange\u001b[0m\u001b[1;33m(\u001b[0m\u001b[0mn\u001b[0m\u001b[1;33m)\u001b[0m\u001b[1;33m:\u001b[0m\u001b[1;33m\u001b[0m\u001b[0m\n\u001b[1;32m      3\u001b[0m     \u001b[1;32mfor\u001b[0m \u001b[0my\u001b[0m \u001b[1;32min\u001b[0m \u001b[0mrange\u001b[0m\u001b[1;33m(\u001b[0m\u001b[0mn\u001b[0m\u001b[1;33m)\u001b[0m\u001b[1;33m:\u001b[0m\u001b[1;33m\u001b[0m\u001b[0m\n\u001b[1;32m      4\u001b[0m         \u001b[0mprint\u001b[0m\u001b[1;33m(\u001b[0m\u001b[0mmax\u001b[0m\u001b[1;33m(\u001b[0m\u001b[0mx\u001b[0m\u001b[1;33m+\u001b[0m\u001b[1;36m1\u001b[0m\u001b[1;33m,\u001b[0m\u001b[0my\u001b[0m\u001b[1;33m+\u001b[0m\u001b[1;36m1\u001b[0m\u001b[1;33m,\u001b[0m\u001b[0mn\u001b[0m\u001b[1;33m-\u001b[0m\u001b[0mx\u001b[0m\u001b[1;33m,\u001b[0m\u001b[0mn\u001b[0m\u001b[1;33m-\u001b[0m\u001b[0my\u001b[0m\u001b[1;33m)\u001b[0m\u001b[1;33m,\u001b[0m\u001b[0mend\u001b[0m\u001b[1;33m=\u001b[0m\u001b[1;34m\" \"\u001b[0m\u001b[1;33m)\u001b[0m\u001b[1;33m\u001b[0m\u001b[0m\n\u001b[1;32m      5\u001b[0m     \u001b[0mprint\u001b[0m\u001b[1;33m(\u001b[0m\u001b[1;33m)\u001b[0m\u001b[1;33m\u001b[0m\u001b[0m\n",
      "\u001b[0;31mValueError\u001b[0m: invalid literal for int() with base 10: ''"
     ]
    }
   ],
   "source": [
    "n = int(input(\"enter the number: \"))\n",
    "for x in range(n):\n",
    "    for y in range(n):\n",
    "        print(max(x+1,y+1,n-x,n-y),end=\" \")\n",
    "    print()\n"
   ]
  },
  {
   "cell_type": "code",
   "execution_count": 2,
   "metadata": {
    "collapsed": false
   },
   "outputs": [
    {
     "name": "stdout",
     "output_type": "stream",
     "text": [
      "hare krisna\n"
     ]
    }
   ],
   "source": [
    "print(\"hare krisna\")"
   ]
  },
  {
   "cell_type": "markdown",
   "metadata": {},
   "source": [
    "Pass - skip code condition - doesn't do anything inside the block"
   ]
  },
  {
   "cell_type": "code",
   "execution_count": 17,
   "metadata": {
    "collapsed": false
   },
   "outputs": [
    {
     "name": "stdout",
     "output_type": "stream",
     "text": [
      "0\n",
      "1\n",
      "2\n",
      "3\n",
      "4\n",
      "2.23606797749979\n",
      "5\n",
      "6\n",
      "7\n",
      "8\n",
      "9\n",
      "2\n"
     ]
    }
   ],
   "source": [
    "import math\n",
    "for i in range(10):\n",
    "    if(i==5):\n",
    "        pass\n",
    "        print(math.sqrt(i))\n",
    "    print(i)\n",
    "    \n",
    "for i in range(5):\n",
    "    pass #if pass wouldn't have been present it would give error\n",
    "\n",
    "\n"
   ]
  },
  {
   "cell_type": "code",
   "execution_count": 48,
   "metadata": {
    "collapsed": false
   },
   "outputs": [
    {
     "name": "stdout",
     "output_type": "stream",
     "text": [
      "enter the number: 25\n",
      "2 3 4 5 6 7 8 9 11 13 15 17 19 23 \n",
      " These are the prime numbers\n"
     ]
    }
   ],
   "source": [
    "# to print all prime no. upto n\n",
    "import math as m\n",
    "n = int(input(\"enter the number: \"))\n",
    "for i in range(2,n):\n",
    "    flg=0;\n",
    "    for j in range(2,int(m.sqrt(i))):\n",
    "        if(i%j==0):\n",
    "            flg=1\n",
    "            break\n",
    "    if flg != 1:\n",
    "        print(i,end=\" \")\n",
    "\n",
    "print(\"These are the prime numbers\")"
   ]
  },
  {
   "cell_type": "code",
   "execution_count": 50,
   "metadata": {
    "collapsed": false
   },
   "outputs": [
    {
     "name": "stdout",
     "output_type": "stream",
     "text": [
      "i scored 5 in chem\n"
     ]
    }
   ],
   "source": [
    "x = 5\n",
    "name = 'chem'\n",
    "print(\"i scored {} in {}\".format(x,name))"
   ]
  },
  {
   "cell_type": "code",
   "execution_count": 52,
   "metadata": {
    "collapsed": false
   },
   "outputs": [
    {
     "name": "stdout",
     "output_type": "stream",
     "text": [
      "hello world\n"
     ]
    }
   ],
   "source": [
    "print(\"hello\",\"world\")"
   ]
  },
  {
   "cell_type": "markdown",
   "metadata": {},
   "source": [
    "Keyword Arguments"
   ]
  },
  {
   "cell_type": "code",
   "execution_count": 57,
   "metadata": {
    "collapsed": false
   },
   "outputs": [
    {
     "name": "stdout",
     "output_type": "stream",
     "text": [
      "i scored 97 in eng in my 10th class\n",
      "Hare krishna +"
     ]
    }
   ],
   "source": [
    "def func(score,sub,cls):\n",
    "    print(\"i scored {} in {} in my {}th class\".format(score,sub,cls))\n",
    "\n",
    "func(sub=\"eng\",score=97,cls=10) #here the arguments are passed using keyword arguments just like this:\n",
    "\n",
    "print(\"Hare\",\"krishna \",end=\"+\") #here end is the keyword argument"
   ]
  },
  {
   "cell_type": "code",
   "execution_count": 62,
   "metadata": {
    "collapsed": false
   },
   "outputs": [
    {
     "name": "stdout",
     "output_type": "stream",
     "text": [
      "Hare Krishna\n",
      "r\n",
      "a\n",
      "lenght of string is 12\n"
     ]
    }
   ],
   "source": [
    "#strings\n",
    "\n",
    "a = \"Hare Krishna\"\n",
    "print(a)\n",
    "print(a[2])\n",
    "print(a[-1])\n",
    "print(\"lenght of string is %d\" % len(a))"
   ]
  },
  {
   "cell_type": "code",
   "execution_count": 60,
   "metadata": {
    "collapsed": false
   },
   "outputs": [
    {
     "ename": "TypeError",
     "evalue": "'str' object does not support item assignment",
     "output_type": "error",
     "traceback": [
      "\u001b[0;31m---------------------------------------------------------------------------\u001b[0m",
      "\u001b[0;31mTypeError\u001b[0m                                 Traceback (most recent call last)",
      "\u001b[0;32m<ipython-input-60-c36293e38132>\u001b[0m in \u001b[0;36m<module>\u001b[0;34m()\u001b[0m\n\u001b[1;32m      1\u001b[0m \u001b[1;31m#pyhton strings are not mutable i.e.\u001b[0m\u001b[1;33m\u001b[0m\u001b[1;33m\u001b[0m\u001b[0m\n\u001b[0;32m----> 2\u001b[0;31m \u001b[0ma\u001b[0m\u001b[1;33m[\u001b[0m\u001b[1;36m2\u001b[0m\u001b[1;33m]\u001b[0m \u001b[1;33m=\u001b[0m \u001b[1;34m'b'\u001b[0m \u001b[1;31m#it gives error, what we can do is complete the whole string or reassign it, a = \"hari bol\"\u001b[0m\u001b[1;33m\u001b[0m\u001b[0m\n\u001b[0m",
      "\u001b[0;31mTypeError\u001b[0m: 'str' object does not support item assignment"
     ]
    }
   ],
   "source": [
    "#pyhton strings are not mutable i.e.\n",
    "a[2] = 'b' #it gives error, what we can do is complete the whole string or reassign it, a = \"hari bol\""
   ]
  },
  {
   "cell_type": "markdown",
   "metadata": {
    "collapsed": true
   },
   "source": [
    "### strings ###"
   ]
  },
  {
   "cell_type": "code",
   "execution_count": 1,
   "metadata": {
    "collapsed": true
   },
   "outputs": [],
   "source": [
    "a = \"strings\""
   ]
  },
  {
   "cell_type": "code",
   "execution_count": 2,
   "metadata": {
    "collapsed": false
   },
   "outputs": [
    {
     "name": "stdout",
     "output_type": "stream",
     "text": [
      "strings\n"
     ]
    }
   ],
   "source": [
    "print(a)"
   ]
  },
  {
   "cell_type": "code",
   "execution_count": 10,
   "metadata": {
    "collapsed": false
   },
   "outputs": [
    {
     "name": "stdout",
     "output_type": "stream",
     "text": [
      "g s r\n"
     ]
    }
   ],
   "source": [
    "print(a[-2],a[0],a[2])"
   ]
  },
  {
   "cell_type": "code",
   "execution_count": 11,
   "metadata": {
    "collapsed": false
   },
   "outputs": [
    {
     "name": "stdout",
     "output_type": "stream",
     "text": [
      "7\n"
     ]
    }
   ],
   "source": [
    "print(len(a))"
   ]
  },
  {
   "cell_type": "code",
   "execution_count": 16,
   "metadata": {
    "collapsed": false
   },
   "outputs": [
    {
     "name": "stdout",
     "output_type": "stream",
     "text": [
      "s t r i n g s "
     ]
    }
   ],
   "source": [
    "for i in range(len(a)): #here i is the iterator\n",
    "    print(a[i],end=\" \")"
   ]
  },
  {
   "cell_type": "code",
   "execution_count": 20,
   "metadata": {
    "collapsed": false
   },
   "outputs": [
    {
     "name": "stdout",
     "output_type": "stream",
     "text": [
      "s t r i n g s "
     ]
    }
   ],
   "source": [
    "# for each loop\n",
    "# here c is the character, not the iterator\n",
    "for c in a:\n",
    "    print(c,end=\" \")"
   ]
  },
  {
   "cell_type": "code",
   "execution_count": 23,
   "metadata": {
    "collapsed": false
   },
   "outputs": [
    {
     "name": "stdout",
     "output_type": "stream",
     "text": [
      "hare krishna\n"
     ]
    }
   ],
   "source": [
    "a = \"hare \"\n",
    "b = \"krishna\"\n",
    "print(a + b)"
   ]
  },
  {
   "cell_type": "code",
   "execution_count": 28,
   "metadata": {
    "collapsed": false
   },
   "outputs": [
    {
     "name": "stdout",
     "output_type": "stream",
     "text": [
      "krishnakrishnakrishnakrishnakrishna\n"
     ]
    }
   ],
   "source": [
    "print(b*5)"
   ]
  },
  {
   "cell_type": "code",
   "execution_count": 42,
   "metadata": {
    "collapsed": false
   },
   "outputs": [
    {
     "name": "stdout",
     "output_type": "stream",
     "text": [
      "krishna rishna rish rish\n",
      "\n"
     ]
    }
   ],
   "source": [
    "#slicing\n",
    "#b[starting index : ending index + 1]  i.e. ending index is not included\n",
    "\n",
    "print(b[:],b[1:],b[1:5],b[1:-2])"
   ]
  },
  {
   "cell_type": "code",
   "execution_count": 44,
   "metadata": {
    "collapsed": false
   },
   "outputs": [
    {
     "data": {
      "text/plain": [
       "''"
      ]
     },
     "execution_count": 44,
     "metadata": {},
     "output_type": "execute_result"
    }
   ],
   "source": [
    "(b[-1:-3]) #it won't print anything since order is not correct"
   ]
  },
  {
   "cell_type": "code",
   "execution_count": 45,
   "metadata": {
    "collapsed": false
   },
   "outputs": [
    {
     "data": {
      "text/plain": [
       "'a'"
      ]
     },
     "execution_count": 45,
     "metadata": {},
     "output_type": "execute_result"
    }
   ],
   "source": [
    "b[-1:]"
   ]
  },
  {
   "cell_type": "code",
   "execution_count": 47,
   "metadata": {
    "collapsed": false
   },
   "outputs": [
    {
     "data": {
      "text/plain": [
       "False"
      ]
     },
     "execution_count": 47,
     "metadata": {},
     "output_type": "execute_result"
    }
   ],
   "source": [
    "# membership - to check whether a substring is present in a bigger string\n",
    "\n",
    "\"rish\" in b"
   ]
  },
  {
   "cell_type": "code",
   "execution_count": 49,
   "metadata": {
    "collapsed": false
   },
   "outputs": [
    {
     "name": "stdout",
     "output_type": "stream",
     "text": [
      "yes\n",
      "No\n"
     ]
    }
   ],
   "source": [
    "a = \"cauliflower\"\n",
    "b = \"au\"\n",
    "if b in a:\n",
    "    print(\"yes\")\n",
    "else:\n",
    "    print(\"No\")\n",
    "    \n",
    "\n",
    "if b not in a:\n",
    "    print(\"yes\")\n",
    "else:\n",
    "    print(\"No\")"
   ]
  },
  {
   "cell_type": "code",
   "execution_count": 50,
   "metadata": {
    "collapsed": false
   },
   "outputs": [
    {
     "name": "stdout",
     "output_type": "stream",
     "text": [
      "i am learning ML from Coding Blocks and it's Awesome\n"
     ]
    }
   ],
   "source": [
    "# String Formatting\n",
    "\n",
    "print(\"i am learning ML from %s and it's %s\" % (\"Coding Blocks\" , \"Awesome\"))"
   ]
  },
  {
   "cell_type": "code",
   "execution_count": 52,
   "metadata": {
    "collapsed": false
   },
   "outputs": [
    {
     "name": "stdout",
     "output_type": "stream",
     "text": [
      " Hey \n",
      " This is a multi line\n",
      " Paragraph\n"
     ]
    }
   ],
   "source": [
    "# Multiple line Paragraph\n",
    "\n",
    "p = \"\"\" Hey \n",
    " This is a multi line\n",
    " Paragraph\"\"\"\n",
    "print(p)"
   ]
  },
  {
   "cell_type": "code",
   "execution_count": 56,
   "metadata": {
    "collapsed": false
   },
   "outputs": [
    {
     "name": "stdout",
     "output_type": "stream",
     "text": [
      "['Hey', 'This', 'is', 'a', 'multi', 'line', 'Paragraph']\n",
      "<class 'list'>\n",
      "<class 'str'>\n"
     ]
    }
   ],
   "source": [
    "#splitting\n",
    "\n",
    "li = p.split()\n",
    "print(li)\n",
    "print(type(li))\n",
    "print(type(li[0]))"
   ]
  },
  {
   "cell_type": "code",
   "execution_count": 68,
   "metadata": {
    "collapsed": false,
    "scrolled": true
   },
   "outputs": [
    {
     "name": "stdout",
     "output_type": "stream",
     "text": [
      "[' Hey ', ' This is a multi line', ' Paragraph']\n"
     ]
    }
   ],
   "source": [
    "print(p.splitlines()) #split each lines"
   ]
  },
  {
   "cell_type": "code",
   "execution_count": 73,
   "metadata": {
    "collapsed": false
   },
   "outputs": [
    {
     "name": "stdout",
     "output_type": "stream",
     "text": [
      "BANANA\n",
      "banana\n"
     ]
    }
   ],
   "source": [
    "fruit = \"baNAna\"\n",
    "print(fruit.upper()) #converts string into uppercase\n",
    "print(fruit.lower()) #converts string into uppercase"
   ]
  },
  {
   "cell_type": "code",
   "execution_count": 81,
   "metadata": {
    "collapsed": false
   },
   "outputs": [
    {
     "name": "stdout",
     "output_type": "stream",
     "text": [
      "21\n",
      "mango shake      16\n",
      "mango shake 11\n"
     ]
    }
   ],
   "source": [
    "shake = \"     mango shake     \"\n",
    "print(len(shake))\n",
    "\n",
    "# to remove the extra white spaces at the starting and ending places of string\n",
    "shake2 = shake\n",
    "\n",
    "shake = shake.lstrip()\n",
    "print(shake,len(shake))\n",
    "\n",
    "shake = shake.rstrip()\n",
    "print(shake,len(shake))\n"
   ]
  },
  {
   "cell_type": "code",
   "execution_count": 87,
   "metadata": {
    "collapsed": false
   },
   "outputs": [
    {
     "name": "stdout",
     "output_type": "stream",
     "text": [
      "     mango shake     \n",
      "mango shake 11\n"
     ]
    }
   ],
   "source": [
    "print(shake2)\n",
    "\n",
    "#to completely remove the ending and trainling white spaces\n",
    "shake2 = shake2.strip()\n",
    "print(shake2,len(shake2))"
   ]
  },
  {
   "cell_type": "code",
   "execution_count": null,
   "metadata": {
    "collapsed": true
   },
   "outputs": [],
   "source": []
  },
  {
   "cell_type": "code",
   "execution_count": 105,
   "metadata": {
    "collapsed": false
   },
   "outputs": [],
   "source": [
    "a = \"12234\"\n",
    "b = \"1234aassds\"\n",
    "c = \"af@#$sfsf)()\"\n",
    "d = \"31lk2@3@@\"\n",
    "f = \"AFDSFSF\"\n",
    "g = \"aflsdASD\""
   ]
  },
  {
   "cell_type": "code",
   "execution_count": 106,
   "metadata": {
    "collapsed": false
   },
   "outputs": [
    {
     "name": "stdout",
     "output_type": "stream",
     "text": [
      "True\n",
      "False\n",
      "False\n",
      "True\n",
      "True\n",
      "True\n"
     ]
    }
   ],
   "source": [
    "print(a.isdigit())\n",
    "print(b.isdigit()) #to check whether string contains only digits\n",
    "print(b.isalpha()) #to check whether string contains only alphabets\n",
    "print(b.isalnum()) #to check whether string contains only digits and alphabets\n",
    "print(c.islower()) #to check whether string contains characters in lower case only\n",
    "print(f.isupper()) #to check whether string contains charcters(any character including alphabets) in upper case only"
   ]
  },
  {
   "cell_type": "code",
   "execution_count": 107,
   "metadata": {
    "collapsed": true
   },
   "outputs": [],
   "source": [
    "#some more string functions"
   ]
  },
  {
   "cell_type": "code",
   "execution_count": 126,
   "metadata": {
    "collapsed": false
   },
   "outputs": [
    {
     "name": "stdout",
     "output_type": "stream",
     "text": [
      "0\n",
      "47\n",
      "11\n",
      "44\n"
     ]
    }
   ],
   "source": [
    "st = \"america is good place and i will love to go to america.\"\n",
    "\n",
    "print(st.find(\"america\")) #return index of first searh from left\n",
    "print(st.find(\"america\",10,len(st))) # here 10 is the starting index and len(st) provides the ending index+1\n",
    "\n",
    "print(st.index(\"good\"))\n",
    "print(st.index(\"to\",-12,len(st)))\n",
    "\n",
    "#difference between index and find is find returns -1 if string not present while index throws exception"
   ]
  },
  {
   "cell_type": "code",
   "execution_count": 127,
   "metadata": {
    "collapsed": false
   },
   "outputs": [
    {
     "data": {
      "text/plain": [
       "'india is good place and i will love to go to india.'"
      ]
     },
     "execution_count": 127,
     "metadata": {},
     "output_type": "execute_result"
    }
   ],
   "source": [
    "st.replace(\"america\",\"india\")"
   ]
  },
  {
   "cell_type": "code",
   "execution_count": 129,
   "metadata": {
    "collapsed": false
   },
   "outputs": [
    {
     "data": {
      "text/plain": [
       "'america is good place and i will love to go to america.'"
      ]
     },
     "execution_count": 129,
     "metadata": {},
     "output_type": "execute_result"
    }
   ],
   "source": [
    "st"
   ]
  },
  {
   "cell_type": "code",
   "execution_count": 132,
   "metadata": {
    "collapsed": false
   },
   "outputs": [
    {
     "name": "stdout",
     "output_type": "stream",
     "text": [
      "india is good place and i will love to go to india.\n"
     ]
    }
   ],
   "source": [
    "st = st.replace(\"america\",\"india\")\n",
    "print(st)"
   ]
  },
  {
   "cell_type": "code",
   "execution_count": 133,
   "metadata": {
    "collapsed": false
   },
   "outputs": [
    {
     "data": {
      "text/plain": [
       "2"
      ]
     },
     "execution_count": 133,
     "metadata": {},
     "output_type": "execute_result"
    }
   ],
   "source": [
    "st.count(\"india\")"
   ]
  },
  {
   "cell_type": "code",
   "execution_count": 134,
   "metadata": {
    "collapsed": false
   },
   "outputs": [
    {
     "data": {
      "text/plain": [
       "0"
      ]
     },
     "execution_count": 134,
     "metadata": {},
     "output_type": "execute_result"
    }
   ],
   "source": [
    "st.count(\"america\")"
   ]
  },
  {
   "cell_type": "code",
   "execution_count": 136,
   "metadata": {
    "collapsed": false
   },
   "outputs": [
    {
     "name": "stdout",
     "output_type": "stream",
     "text": [
      "['india', 'is', 'good', 'place', 'and', 'i', 'will', 'love', 'to', 'go', 'to', 'india.']\n"
     ]
    }
   ],
   "source": [
    "l = st.split(\" \")\n",
    "print(l)"
   ]
  },
  {
   "cell_type": "code",
   "execution_count": 137,
   "metadata": {
    "collapsed": false
   },
   "outputs": [
    {
     "data": {
      "text/plain": [
       "'india_is_good_place_and_i_will_love_to_go_to_india.'"
      ]
     },
     "execution_count": 137,
     "metadata": {},
     "output_type": "execute_result"
    }
   ],
   "source": [
    "\"_\".join(l) #using join we can join a given list of words"
   ]
  },
  {
   "cell_type": "code",
   "execution_count": 138,
   "metadata": {
    "collapsed": false
   },
   "outputs": [
    {
     "name": "stdout",
     "output_type": "stream",
     "text": [
      "india-is-good-place-and-i-will-love-to-go-to-india.\n"
     ]
    }
   ],
   "source": [
    "b = \"-\"\n",
    "b = b.join(l)\n",
    "print(b)"
   ]
  },
  {
   "cell_type": "code",
   "execution_count": 142,
   "metadata": {
    "collapsed": false
   },
   "outputs": [
    {
     "name": "stdout",
     "output_type": "stream",
     "text": [
      "India is good place and i will love to go to India.\n"
     ]
    }
   ],
   "source": [
    "st = st.replace(\"india\",\"India\")\n",
    "print(st)"
   ]
  },
  {
   "cell_type": "code",
   "execution_count": 147,
   "metadata": {
    "collapsed": false
   },
   "outputs": [
    {
     "name": "stdout",
     "output_type": "stream",
     "text": [
      "God's mercy\n",
      "\n",
      "God'S Mercy\n"
     ]
    }
   ],
   "source": [
    "a = \"god's mercy\"\n",
    "print(a.capitalize()) #capitalize the first letter\n",
    "print()\n",
    "print(a.title()) #capitailize the first letter of each word"
   ]
  },
  {
   "cell_type": "code",
   "execution_count": 2,
   "metadata": {
    "collapsed": false
   },
   "outputs": [
    {
     "name": "stdout",
     "output_type": "stream",
     "text": [
      "McalJcsn\n"
     ]
    }
   ],
   "source": [
    "name = \"Michael Jackson\"\n",
    "print(name[::2]) #print every 2nd letter "
   ]
  },
  {
   "cell_type": "code",
   "execution_count": 4,
   "metadata": {
    "collapsed": false
   },
   "outputs": [
    {
     "name": "stdout",
     "output_type": "stream",
     "text": [
      "Mca\n"
     ]
    }
   ],
   "source": [
    "print(name[0:5:2])"
   ]
  },
  {
   "cell_type": "code",
   "execution_count": 6,
   "metadata": {
    "collapsed": false
   },
   "outputs": [
    {
     "name": "stdout",
     "output_type": "stream",
     "text": [
      "he is the \n",
      " best\n"
     ]
    }
   ],
   "source": [
    "# escape sequences\n",
    "\n",
    "print(\"he is the \\n best\")"
   ]
  },
  {
   "cell_type": "code",
   "execution_count": 18,
   "metadata": {
    "collapsed": false
   },
   "outputs": [
    {
     "name": "stdout",
     "output_type": "stream",
     "text": [
      "he is the \\n best\n",
      "he is the \\ best\n",
      "he is the \\ fjs\n",
      "he is the \\\\ best\n"
     ]
    }
   ],
   "source": [
    "#to avoid new line\n",
    "print(\"he is the \\\\n best\")\n",
    "# or\n",
    "print(\"he is the \\\\ best\")\n",
    "# or\n",
    "print(\"he is the \\ fjs\")\n",
    "# or \n",
    "# focus on the no. of slashes\n",
    "print(\"he is the \\\\\\ best\")"
   ]
  },
  {
   "cell_type": "code",
   "execution_count": 20,
   "metadata": {
    "collapsed": false
   },
   "outputs": [
    {
     "name": "stdout",
     "output_type": "stream",
     "text": [
      "hello how are \\n \\tyou\n"
     ]
    }
   ],
   "source": [
    "# or we can use 'r' in front of the string\n",
    "print(r\"hello how are \\n \\t you\")"
   ]
  },
  {
   "cell_type": "markdown",
   "metadata": {},
   "source": [
    "### string methods(ibm course)\n",
    "- upper\n",
    "- replace\n",
    "- find (if substring not available, then output is -1)"
   ]
  },
  {
   "cell_type": "code",
   "execution_count": 22,
   "metadata": {
    "collapsed": false
   },
   "outputs": [
    {
     "name": "stdout",
     "output_type": "stream",
     "text": [
      "his name is rakesh\n"
     ]
    }
   ],
   "source": [
    "st = \"his name is rakesh\"\n",
    "st.replace('rakesh','ram')\n",
    "print(st)"
   ]
  },
  {
   "cell_type": "code",
   "execution_count": 23,
   "metadata": {
    "collapsed": false
   },
   "outputs": [
    {
     "data": {
      "text/plain": [
       "1"
      ]
     },
     "execution_count": 23,
     "metadata": {},
     "output_type": "execute_result"
    }
   ],
   "source": [
    "st.find('is')"
   ]
  },
  {
   "cell_type": "code",
   "execution_count": null,
   "metadata": {
    "collapsed": true
   },
   "outputs": [],
   "source": []
  },
  {
   "cell_type": "markdown",
   "metadata": {},
   "source": [
    "### branching and conditionals"
   ]
  },
  {
   "cell_type": "code",
   "execution_count": 5,
   "metadata": {
    "collapsed": false
   },
   "outputs": [
    {
     "name": "stdout",
     "output_type": "stream",
     "text": [
      "enter the age25\n",
      "allowed\n"
     ]
    }
   ],
   "source": [
    "age = int(input('enter the age'))\n",
    "\n",
    "if(age>18):\n",
    "    print(\"allowed\")\n",
    "elif(age==18):\n",
    "    print(\"conditional allow\")\n",
    "else:\n",
    "    print(\"not allowed\")\n"
   ]
  },
  {
   "cell_type": "code",
   "execution_count": 7,
   "metadata": {
    "collapsed": false
   },
   "outputs": [],
   "source": [
    "# Logical operators\n",
    "# or,and"
   ]
  },
  {
   "cell_type": "code",
   "execution_count": 13,
   "metadata": {
    "collapsed": false
   },
   "outputs": [
    {
     "name": "stdout",
     "output_type": "stream",
     "text": [
      "None\n"
     ]
    }
   ],
   "source": [
    "b = [2,4,3,6,1]\n",
    "a = b.sort()\n",
    "print(a)"
   ]
  },
  {
   "cell_type": "code",
   "execution_count": null,
   "metadata": {
    "collapsed": true
   },
   "outputs": [],
   "source": []
  },
  {
   "cell_type": "code",
   "execution_count": null,
   "metadata": {
    "collapsed": true
   },
   "outputs": [],
   "source": []
  },
  {
   "cell_type": "markdown",
   "metadata": {},
   "source": [
    "## file handling"
   ]
  },
  {
   "cell_type": "code",
   "execution_count": 3,
   "metadata": {
    "collapsed": false
   },
   "outputs": [
    {
     "name": "stdout",
     "output_type": "stream",
     "text": [
      "#include<bits/stdc++.h>\n",
      "using namespace std;\n",
      "#define ll long int \n",
      "#define fast_io() ios_base::sync_with_stdio(false); cin.tie(0); cout.tie(0);\n",
      "\n",
      "int main(){\n",
      "\tfast_io()\n",
      "\tint t;\n",
      "\tcin>>t;\n",
      "\twhile(t--){\n",
      "\n",
      "\t}\n",
      "\n",
      "\n",
      "}\n",
      "\n",
      "Coursera application answers:-\n",
      "\n",
      "Why are you applying for Financial Aid? (150 words minimum required)\n",
      "\n",
      "I am a resident of India.My father owns a small shop and he earns around 180 USD a month and my mother is a housewife.I am in my last year of B.Tech.\n",
      "I am currently unemployed and yet to be placed in my college.I am completely dependent on my parents for all my expenses and they are also paying my college fee.\n",
      "Also i have siblings studying in school,they have to pay their fee also. In this circumstance, it is very much difficult for me to gather such amount of money\n",
      "for the certificate. Financial Aid will help me take this course without any adverse impact on my monthly essential needs.Therefore I kindly request Coursera through\n",
      "this platform to consider my application and grant me financial aid to complete this course. I promise that I won't take this opportunity for granted and work hard to\n",
      "learn more and more to gain more knowledge.\n",
      "\n",
      "How will taking this course help you achieve your career goals? (150 words minimum required)\n",
      "\n",
      "Taking this course will help me to learn and study the one of the most trending technology today which is machine learning and also to implement it. \n",
      "As machine Learning is a growing field with lots of challenges and opportunities. It's quite fascinating to me how we can make machines to learn on their own and \n",
      "solve complex problems.Also,this Course will boost my job prospects after graduation from my institute. It will help perform better in understanding and learning \n",
      "this technology and giving me an edge. A verified certificate will attach credibility to the certificate which i will receive from this course.The field of\n",
      " software technology is becoming saturated, and industries are now placing a high level of importance on specialisation.Getting certification on this course not only \n",
      "help me to stand out among thousands but also help my resume get shortlisted and get high paying job in top companies.I plan to complete all assignments on or before time.\n",
      "Completing this course will boost my self-confidence, knowing that I not only completed a very important task but also took the responsibility of creating a foundation \n",
      "for getting me closer to my career goals.\n",
      "\n",
      "\n",
      "If you answered no, please help us understand why.\n",
      "The financial status of the family is not good to pay the loan amount. They are already paying other loan amounts so this would further add to their problems.\n",
      "I don't want to put any pressure over them.\n",
      "\n",
      "\n",
      "\n",
      "\n",
      "\n",
      "\n",
      "\n",
      "#include <bits/stdc++.h>\n",
      "using namespace std;\n",
      "#define IOS                  \\\n",
      "    ios::sync_with_stdio(0); \\\n",
      "    cin.tie(0);              \\\n",
      "    cout.tie(0);\n",
      "\n",
      "\n",
      "int partition(int arr[],int low,int high){\n",
      "    int x=arr[high];\n",
      "    int j,i=low-1;\n",
      "    for(int j=low;j<=high-1;j++){\n",
      "        if(arr[j]<=x){\n",
      "            i++;\n",
      "            swap(arr[i],arr[j]);\n",
      "        }\n",
      "    }\n",
      "    swap(arr[i+1],arr[high]);\n",
      "    return i+1;\n",
      "}\n",
      "\n",
      "int kthsmall(int arr[],int low,int high,int k){\n",
      "    int index=partition(arr,low,high);\n",
      "    if(index==k-1)\n",
      "        return index;\n",
      "    else if(index-l>k-1){\n",
      "        return kthsmall(arr,low,index-1,k);\n",
      "        }\n",
      "    else {\n",
      "        return kthsmall(arr,index+1,high,k-index+l-1);\n",
      "        }\n",
      "}\n",
      "\n",
      "int main() {\n",
      "\tint t;\n",
      "\tcin>>t;\n",
      "\twhile(t--){\n",
      "\t    int n,k;\n",
      "\t    cin>>n;\n",
      "\t    int arr[n];\n",
      "\t    for(int i=0;i<n;i++)\n",
      "\t        cin>>arr[i];\n",
      "\t    cin>>k;\n",
      "\t    \n",
      "\t    int m=kthsmall(arr,0,n-1,k);\n",
      "\t    cout<<arr[m]<<endl;\n",
      "\t    \n",
      "\t}\n",
      "\t\n",
      "\t\n",
      "\treturn 0;\n",
      "}\n",
      "\n",
      "\n",
      "\n",
      "\n",
      "\n",
      "\n",
      "\n",
      "\n",
      "\n",
      "\n",
      "\n",
      "\n",
      "\n",
      "\n",
      "\n",
      "\n",
      "\n",
      "\n",
      "\n",
      "\n",
      "\n",
      "\n",
      "\n",
      "\n",
      "\n",
      "\n",
      "//inversion of array\n",
      "\n",
      "\n",
      "#define ll long long\n",
      "\n",
      "ll mergeutil(ll arr[],ll l ,ll mid, ll h,ll &count){\n",
      "    ll n1=mid-l+1;\n",
      "    ll n2=h-mid;\n",
      "    ll x[n1];ll i,j,k;\n",
      "    ll y[n2];\n",
      "    \n",
      "    for(i=0;i<n1;i++)\n",
      "        x[i]=arr[l+i];\n",
      "    for(j=0;j<n2;j++)\n",
      "        y[j]=arr[mid+1+j];\n",
      "    i=0;j=0;k=l;\n",
      "    while(i<n1 && j<n2){\n",
      "        if(x[i]<=y[j]){\n",
      "            arr[k]=x[i];\n",
      "            i++;\n",
      "            k++;\n",
      "        }\n",
      "        else{\n",
      "            arr[k]=y[j];\n",
      "            count+=(n1-i);\n",
      "            j++;k++;\n",
      "            \n",
      "        }\n",
      "    }\n",
      "    while(i<n1){\n",
      "        arr[k]=x[i];\n",
      "        i++;k++;\n",
      "    }\n",
      "    while(j<n2){\n",
      "        arr[k]=y[j];\n",
      "        j++;k++;\n",
      "    }\n",
      "    return count;\n",
      "}\n",
      "\n",
      "long long util(long long arr[],long long l,long long h,ll &count){\n",
      "    while(l<h){\n",
      "        ll mid= l + (h-l)/2;\n",
      "        util(arr,l,mid-1,count);\n",
      "        util(arr,mid+1,h,count);\n",
      "        mergeutil(arr,l,mid,h,count);\n",
      "    }\n",
      "    return count;\n",
      "}\n",
      "\n",
      "long long int inversionCount(long long a[],long long n){\n",
      "    ll count=0;\n",
      "    ll x=util(a,0,n-1,count);\n",
      "    return x;\n",
      "}\n",
      "\n",
      "\n",
      "\n",
      "\n",
      "\n",
      "\n",
      "//inversion of array\n",
      "\n",
      "\n",
      "long long countMerge(long long A[], long long l, long long mid, long long h)\n",
      "{\n",
      "long long n1 = mid - l + 1;\n",
      "long long n2 = h - mid;\n",
      "long long int res = 0;\n",
      "long long left[n1];\n",
      "long long right[n2];\n",
      "\n",
      "long long i ,j, k = l;\n",
      "for(i = 0 ; i < n1 ; i++)\n",
      "left[i] = A[l+i];\n",
      "\n",
      "for(j = 0 ; j < n2 ; j++)\n",
      "right[j] = A[mid+j+1];\n",
      "\n",
      "i = 0, j = 0;\n",
      "while(i < n1 && j < n2)\n",
      "{\n",
      "if(left[i] <= right[j])\n",
      "{\n",
      "A[k++] = left[i++];\n",
      "}\n",
      "else\n",
      "{\n",
      "A[k++] = right[j++];\n",
      "res += n1-i;\n",
      "}\n",
      "}\n",
      "while(i < n1)\n",
      "A[k++] = left[i++];\n",
      "while(j < n2)\n",
      "A[k++] = right[j++];\n",
      "\n",
      "return res;\n",
      "}\n",
      "\n",
      "long long int countInversion(long long A[],long long l, long long h)\n",
      "{\n",
      "long long int res = 0;\n",
      "if(l < h)\n",
      "{\n",
      "int mid = l+(h-l)/2;\n",
      "\n",
      "res += countInversion(A,l,mid);\n",
      "res += countInversion(A,mid+1,h);\n",
      "res += countMerge(A,l,mid,h);\n",
      "}\n",
      "return res;\n",
      "}\n",
      "long long int inversionCount(long long A[],long long N)\n",
      "{\n",
      "long long int res = countInversion(A,0,N-1);\n",
      "return res;\n",
      "}\n",
      "\n",
      "\n",
      "\n",
      "http://10.200.1.1:8002/index.php?zone=nitjsr_cp&redirurl=http%3A%2F%2Fwww.msftconnecttest.com%2Fredirect\n"
     ]
    }
   ],
   "source": [
    "file = open('C:/Users/Dell/Desktop/bakwas_file.txt','r')\n",
    "file_stuff = file.read()\n",
    "print(file_stuff)\n",
    "file.close()  #it is necessary to close the file"
   ]
  },
  {
   "cell_type": "code",
   "execution_count": 4,
   "metadata": {
    "collapsed": false
   },
   "outputs": [
    {
     "name": "stdout",
     "output_type": "stream",
     "text": [
      "#include<bits/stdc++.h>\n",
      "using namespace std;\n",
      "#define ll long int \n",
      "#define fast_io() ios_base::sync_with_stdio(false); cin.tie(0); cout.tie(0);\n",
      "\n",
      "int main(){\n",
      "\tfast_io()\n",
      "\tint t;\n",
      "\tcin>>t;\n",
      "\twhile(t--){\n",
      "\n",
      "\t}\n",
      "\n",
      "\n",
      "}\n",
      "\n",
      "Coursera application answers:-\n",
      "\n",
      "Why are you applying for Financial Aid? (150 words minimum required)\n",
      "\n",
      "I am a resident of India.My father owns a small shop and he earns around 180 USD a month and my mother is a housewife.I am in my last year of B.Tech.\n",
      "I am currently unemployed and yet to be placed in my college.I am completely dependent on my parents for all my expenses and they are also paying my college fee.\n",
      "Also i have siblings studying in school,they have to pay their fee also. In this circumstance, it is very much difficult for me to gather such amount of money\n",
      "for the certificate. Financial Aid will help me take this course without any adverse impact on my monthly essential needs.Therefore I kindly request Coursera through\n",
      "this platform to consider my application and grant me financial aid to complete this course. I promise that I won't take this opportunity for granted and work hard to\n",
      "learn more and more to gain more knowledge.\n",
      "\n",
      "How will taking this course help you achieve your career goals? (150 words minimum required)\n",
      "\n",
      "Taking this course will help me to learn and study the one of the most trending technology today which is machine learning and also to implement it. \n",
      "As machine Learning is a growing field with lots of challenges and opportunities. It's quite fascinating to me how we can make machines to learn on their own and \n",
      "solve complex problems.Also,this Course will boost my job prospects after graduation from my institute. It will help perform better in understanding and learning \n",
      "this technology and giving me an edge. A verified certificate will attach credibility to the certificate which i will receive from this course.The field of\n",
      " software technology is becoming saturated, and industries are now placing a high level of importance on specialisation.Getting certification on this course not only \n",
      "help me to stand out among thousands but also help my resume get shortlisted and get high paying job in top companies.I plan to complete all assignments on or before time.\n",
      "Completing this course will boost my self-confidence, knowing that I not only completed a very important task but also took the responsibility of creating a foundation \n",
      "for getting me closer to my career goals.\n",
      "\n",
      "\n",
      "If you answered no, please help us understand why.\n",
      "The financial status of the family is not good to pay the loan amount. They are already paying other loan amounts so this would further add to their problems.\n",
      "I don't want to put any pressure over them.\n",
      "\n",
      "\n",
      "\n",
      "\n",
      "\n",
      "\n",
      "\n",
      "#include <bits/stdc++.h>\n",
      "using namespace std;\n",
      "#define IOS                  \\\n",
      "    ios::sync_with_stdio(0); \\\n",
      "    cin.tie(0);              \\\n",
      "    cout.tie(0);\n",
      "\n",
      "\n",
      "int partition(int arr[],int low,int high){\n",
      "    int x=arr[high];\n",
      "    int j,i=low-1;\n",
      "    for(int j=low;j<=high-1;j++){\n",
      "        if(arr[j]<=x){\n",
      "            i++;\n",
      "            swap(arr[i],arr[j]);\n",
      "        }\n",
      "    }\n",
      "    swap(arr[i+1],arr[high]);\n",
      "    return i+1;\n",
      "}\n",
      "\n",
      "int kthsmall(int arr[],int low,int high,int k){\n",
      "    int index=partition(arr,low,high);\n",
      "    if(index==k-1)\n",
      "        return index;\n",
      "    else if(index-l>k-1){\n",
      "        return kthsmall(arr,low,index-1,k);\n",
      "        }\n",
      "    else {\n",
      "        return kthsmall(arr,index+1,high,k-index+l-1);\n",
      "        }\n",
      "}\n",
      "\n",
      "int main() {\n",
      "\tint t;\n",
      "\tcin>>t;\n",
      "\twhile(t--){\n",
      "\t    int n,k;\n",
      "\t    cin>>n;\n",
      "\t    int arr[n];\n",
      "\t    for(int i=0;i<n;i++)\n",
      "\t        cin>>arr[i];\n",
      "\t    cin>>k;\n",
      "\t    \n",
      "\t    int m=kthsmall(arr,0,n-1,k);\n",
      "\t    cout<<arr[m]<<endl;\n",
      "\t    \n",
      "\t}\n",
      "\t\n",
      "\t\n",
      "\treturn 0;\n",
      "}\n",
      "\n",
      "\n",
      "\n",
      "\n",
      "\n",
      "\n",
      "\n",
      "\n",
      "\n",
      "\n",
      "\n",
      "\n",
      "\n",
      "\n",
      "\n",
      "\n",
      "\n",
      "\n",
      "\n",
      "\n",
      "\n",
      "\n",
      "\n",
      "\n",
      "\n",
      "\n",
      "//inversion of array\n",
      "\n",
      "\n",
      "#define ll long long\n",
      "\n",
      "ll mergeutil(ll arr[],ll l ,ll mid, ll h,ll &count){\n",
      "    ll n1=mid-l+1;\n",
      "    ll n2=h-mid;\n",
      "    ll x[n1];ll i,j,k;\n",
      "    ll y[n2];\n",
      "    \n",
      "    for(i=0;i<n1;i++)\n",
      "        x[i]=arr[l+i];\n",
      "    for(j=0;j<n2;j++)\n",
      "        y[j]=arr[mid+1+j];\n",
      "    i=0;j=0;k=l;\n",
      "    while(i<n1 && j<n2){\n",
      "        if(x[i]<=y[j]){\n",
      "            arr[k]=x[i];\n",
      "            i++;\n",
      "            k++;\n",
      "        }\n",
      "        else{\n",
      "            arr[k]=y[j];\n",
      "            count+=(n1-i);\n",
      "            j++;k++;\n",
      "            \n",
      "        }\n",
      "    }\n",
      "    while(i<n1){\n",
      "        arr[k]=x[i];\n",
      "        i++;k++;\n",
      "    }\n",
      "    while(j<n2){\n",
      "        arr[k]=y[j];\n",
      "        j++;k++;\n",
      "    }\n",
      "    return count;\n",
      "}\n",
      "\n",
      "long long util(long long arr[],long long l,long long h,ll &count){\n",
      "    while(l<h){\n",
      "        ll mid= l + (h-l)/2;\n",
      "        util(arr,l,mid-1,count);\n",
      "        util(arr,mid+1,h,count);\n",
      "        mergeutil(arr,l,mid,h,count);\n",
      "    }\n",
      "    return count;\n",
      "}\n",
      "\n",
      "long long int inversionCount(long long a[],long long n){\n",
      "    ll count=0;\n",
      "    ll x=util(a,0,n-1,count);\n",
      "    return x;\n",
      "}\n",
      "\n",
      "\n",
      "\n",
      "\n",
      "\n",
      "\n",
      "//inversion of array\n",
      "\n",
      "\n",
      "long long countMerge(long long A[], long long l, long long mid, long long h)\n",
      "{\n",
      "long long n1 = mid - l + 1;\n",
      "long long n2 = h - mid;\n",
      "long long int res = 0;\n",
      "long long left[n1];\n",
      "long long right[n2];\n",
      "\n",
      "long long i ,j, k = l;\n",
      "for(i = 0 ; i < n1 ; i++)\n",
      "left[i] = A[l+i];\n",
      "\n",
      "for(j = 0 ; j < n2 ; j++)\n",
      "right[j] = A[mid+j+1];\n",
      "\n",
      "i = 0, j = 0;\n",
      "while(i < n1 && j < n2)\n",
      "{\n",
      "if(left[i] <= right[j])\n",
      "{\n",
      "A[k++] = left[i++];\n",
      "}\n",
      "else\n",
      "{\n",
      "A[k++] = right[j++];\n",
      "res += n1-i;\n",
      "}\n",
      "}\n",
      "while(i < n1)\n",
      "A[k++] = left[i++];\n",
      "while(j < n2)\n",
      "A[k++] = right[j++];\n",
      "\n",
      "return res;\n",
      "}\n",
      "\n",
      "long long int countInversion(long long A[],long long l, long long h)\n",
      "{\n",
      "long long int res = 0;\n",
      "if(l < h)\n",
      "{\n",
      "int mid = l+(h-l)/2;\n",
      "\n",
      "res += countInversion(A,l,mid);\n",
      "res += countInversion(A,mid+1,h);\n",
      "res += countMerge(A,l,mid,h);\n",
      "}\n",
      "return res;\n",
      "}\n",
      "long long int inversionCount(long long A[],long long N)\n",
      "{\n",
      "long long int res = countInversion(A,0,N-1);\n",
      "return res;\n",
      "}\n",
      "\n",
      "\n",
      "\n",
      "http://10.200.1.1:8002/index.php?zone=nitjsr_cp&redirurl=http%3A%2F%2Fwww.msftconnecttest.com%2Fredirect\n"
     ]
    }
   ],
   "source": [
    "# to avoid closing the file we can use with :\n",
    "\n",
    "with open('C:/Users/Dell/Desktop/bakwas_file.txt','r') as file1:\n",
    "    file_data = file1.read()\n",
    "\n",
    "print(file_data)"
   ]
  },
  {
   "cell_type": "code",
   "execution_count": 9,
   "metadata": {
    "collapsed": false
   },
   "outputs": [
    {
     "name": "stdout",
     "output_type": "stream",
     "text": [
      "True\n"
     ]
    }
   ],
   "source": [
    "print(file.closed)"
   ]
  },
  {
   "cell_type": "code",
   "execution_count": 10,
   "metadata": {
    "collapsed": false
   },
   "outputs": [
    {
     "name": "stdout",
     "output_type": "stream",
     "text": [
      "True\n"
     ]
    }
   ],
   "source": [
    "print(file1.closed)"
   ]
  },
  {
   "cell_type": "code",
   "execution_count": 11,
   "metadata": {
    "collapsed": false
   },
   "outputs": [
    {
     "data": {
      "text/plain": [
       "\"#include<bits/stdc++.h>\\nusing namespace std;\\n#define ll long int \\n#define fast_io() ios_base::sync_with_stdio(false); cin.tie(0); cout.tie(0);\\n\\nint main(){\\n\\tfast_io()\\n\\tint t;\\n\\tcin>>t;\\n\\twhile(t--){\\n\\n\\t}\\n\\n\\n}\\n\\nCoursera application answers:-\\n\\nWhy are you applying for Financial Aid? (150 words minimum required)\\n\\nI am a resident of India.My father owns a small shop and he earns around 180 USD a month and my mother is a housewife.I am in my last year of B.Tech.\\nI am currently unemployed and yet to be placed in my college.I am completely dependent on my parents for all my expenses and they are also paying my college fee.\\nAlso i have siblings studying in school,they have to pay their fee also. In this circumstance, it is very much difficult for me to gather such amount of money\\nfor the certificate. Financial Aid will help me take this course without any adverse impact on my monthly essential needs.Therefore I kindly request Coursera through\\nthis platform to consider my application and grant me financial aid to complete this course. I promise that I won't take this opportunity for granted and work hard to\\nlearn more and more to gain more knowledge.\\n\\nHow will taking this course help you achieve your career goals? (150 words minimum required)\\n\\nTaking this course will help me to learn and study the one of the most trending technology today which is machine learning and also to implement it. \\nAs machine Learning is a growing field with lots of challenges and opportunities. It's quite fascinating to me how we can make machines to learn on their own and \\nsolve complex problems.Also,this Course will boost my job prospects after graduation from my institute. It will help perform better in understanding and learning \\nthis technology and giving me an edge. A verified certificate will attach credibility to the certificate which i will receive from this course.The field of\\n software technology is becoming saturated, and industries are now placing a high level of importance on specialisation.Getting certification on this course not only \\nhelp me to stand out among thousands but also help my resume get shortlisted and get high paying job in top companies.I plan to complete all assignments on or before time.\\nCompleting this course will boost my self-confidence, knowing that I not only completed a very important task but also took the responsibility of creating a foundation \\nfor getting me closer to my career goals.\\n\\n\\nIf you answered no, please help us understand why.\\nThe financial status of the family is not good to pay the loan amount. They are already paying other loan amounts so this would further add to their problems.\\nI don't want to put any pressure over them.\\n\\n\\n\\n\\n\\n\\n\\n#include <bits/stdc++.h>\\nusing namespace std;\\n#define IOS                  \\\\\\n    ios::sync_with_stdio(0); \\\\\\n    cin.tie(0);              \\\\\\n    cout.tie(0);\\n\\n\\nint partition(int arr[],int low,int high){\\n    int x=arr[high];\\n    int j,i=low-1;\\n    for(int j=low;j<=high-1;j++){\\n        if(arr[j]<=x){\\n            i++;\\n            swap(arr[i],arr[j]);\\n        }\\n    }\\n    swap(arr[i+1],arr[high]);\\n    return i+1;\\n}\\n\\nint kthsmall(int arr[],int low,int high,int k){\\n    int index=partition(arr,low,high);\\n    if(index==k-1)\\n        return index;\\n    else if(index-l>k-1){\\n        return kthsmall(arr,low,index-1,k);\\n        }\\n    else {\\n        return kthsmall(arr,index+1,high,k-index+l-1);\\n        }\\n}\\n\\nint main() {\\n\\tint t;\\n\\tcin>>t;\\n\\twhile(t--){\\n\\t    int n,k;\\n\\t    cin>>n;\\n\\t    int arr[n];\\n\\t    for(int i=0;i<n;i++)\\n\\t        cin>>arr[i];\\n\\t    cin>>k;\\n\\t    \\n\\t    int m=kthsmall(arr,0,n-1,k);\\n\\t    cout<<arr[m]<<endl;\\n\\t    \\n\\t}\\n\\t\\n\\t\\n\\treturn 0;\\n}\\n\\n\\n\\n\\n\\n\\n\\n\\n\\n\\n\\n\\n\\n\\n\\n\\n\\n\\n\\n\\n\\n\\n\\n\\n\\n\\n//inversion of array\\n\\n\\n#define ll long long\\n\\nll mergeutil(ll arr[],ll l ,ll mid, ll h,ll &count){\\n    ll n1=mid-l+1;\\n    ll n2=h-mid;\\n    ll x[n1];ll i,j,k;\\n    ll y[n2];\\n    \\n    for(i=0;i<n1;i++)\\n        x[i]=arr[l+i];\\n    for(j=0;j<n2;j++)\\n        y[j]=arr[mid+1+j];\\n    i=0;j=0;k=l;\\n    while(i<n1 && j<n2){\\n        if(x[i]<=y[j]){\\n            arr[k]=x[i];\\n            i++;\\n            k++;\\n        }\\n        else{\\n            arr[k]=y[j];\\n            count+=(n1-i);\\n            j++;k++;\\n            \\n        }\\n    }\\n    while(i<n1){\\n        arr[k]=x[i];\\n        i++;k++;\\n    }\\n    while(j<n2){\\n        arr[k]=y[j];\\n        j++;k++;\\n    }\\n    return count;\\n}\\n\\nlong long util(long long arr[],long long l,long long h,ll &count){\\n    while(l<h){\\n        ll mid= l + (h-l)/2;\\n        util(arr,l,mid-1,count);\\n        util(arr,mid+1,h,count);\\n        mergeutil(arr,l,mid,h,count);\\n    }\\n    return count;\\n}\\n\\nlong long int inversionCount(long long a[],long long n){\\n    ll count=0;\\n    ll x=util(a,0,n-1,count);\\n    return x;\\n}\\n\\n\\n\\n\\n\\n\\n//inversion of array\\n\\n\\nlong long countMerge(long long A[], long long l, long long mid, long long h)\\n{\\nlong long n1 = mid - l + 1;\\nlong long n2 = h - mid;\\nlong long int res = 0;\\nlong long left[n1];\\nlong long right[n2];\\n\\nlong long i ,j, k = l;\\nfor(i = 0 ; i < n1 ; i++)\\nleft[i] = A[l+i];\\n\\nfor(j = 0 ; j < n2 ; j++)\\nright[j] = A[mid+j+1];\\n\\ni = 0, j = 0;\\nwhile(i < n1 && j < n2)\\n{\\nif(left[i] <= right[j])\\n{\\nA[k++] = left[i++];\\n}\\nelse\\n{\\nA[k++] = right[j++];\\nres += n1-i;\\n}\\n}\\nwhile(i < n1)\\nA[k++] = left[i++];\\nwhile(j < n2)\\nA[k++] = right[j++];\\n\\nreturn res;\\n}\\n\\nlong long int countInversion(long long A[],long long l, long long h)\\n{\\nlong long int res = 0;\\nif(l < h)\\n{\\nint mid = l+(h-l)/2;\\n\\nres += countInversion(A,l,mid);\\nres += countInversion(A,mid+1,h);\\nres += countMerge(A,l,mid,h);\\n}\\nreturn res;\\n}\\nlong long int inversionCount(long long A[],long long N)\\n{\\nlong long int res = countInversion(A,0,N-1);\\nreturn res;\\n}\\n\\n\\n\\nhttp://10.200.1.1:8002/index.php?zone=nitjsr_cp&redirurl=http%3A%2F%2Fwww.msftconnecttest.com%2Fredirect\""
      ]
     },
     "execution_count": 11,
     "metadata": {},
     "output_type": "execute_result"
    }
   ],
   "source": [
    "file_data #it takes new line as '\\n' and reads as string"
   ]
  },
  {
   "cell_type": "code",
   "execution_count": 20,
   "metadata": {
    "collapsed": false
   },
   "outputs": [
    {
     "data": {
      "text/plain": [
       "['this is line 1\\n', 'how are you\\n', 'this is line2']"
      ]
     },
     "execution_count": 20,
     "metadata": {},
     "output_type": "execute_result"
    }
   ],
   "source": [
    "with open('C:/Users/Dell/Desktop/testing.txt','r') as file2:\n",
    "    file_l = file2.readlines()\n",
    "    \n",
    "file_l #every line is an element of the list"
   ]
  },
  {
   "cell_type": "code",
   "execution_count": 35,
   "metadata": {
    "collapsed": false
   },
   "outputs": [
    {
     "name": "stdout",
     "output_type": "stream",
     "text": [
      "this is line 1\n",
      "\n",
      "how are you\n",
      "\n",
      "this is line2\n"
     ]
    }
   ],
   "source": [
    "# to print the first line in a file\n",
    "with open('C:/Users/Dell/Desktop/testing.txt','r') as file2:\n",
    "    file_n = file2.readline() #to read the first line in the file and then it reads subsequent lines\n",
    "    print(file_n) #prints the first line\n",
    "    file_n = file2.readline()\n",
    "    print(file_n) #then prints the second line\n",
    "    \n",
    "    #or we can use loop\n",
    "    for line in file2:\n",
    "        print(line)"
   ]
  },
  {
   "cell_type": "code",
   "execution_count": 26,
   "metadata": {
    "collapsed": false
   },
   "outputs": [
    {
     "name": "stdout",
     "output_type": "stream",
     "text": [
      "this is line 1\n",
      "\n",
      "how are you\n",
      "\n",
      "this is line2\n"
     ]
    }
   ],
   "source": [
    "with open('C:/Users/Dell/Desktop/testing.txt','r') as file2:\n",
    "    for line in file2:\n",
    "        print(line)"
   ]
  },
  {
   "cell_type": "code",
   "execution_count": 47,
   "metadata": {
    "collapsed": false
   },
   "outputs": [
    {
     "name": "stdout",
     "output_type": "stream",
     "text": [
      "\n"
     ]
    }
   ],
   "source": [
    "with open('C:/Users/Dell/Desktop/testing.txt','r') as file2:\n",
    "    n = len(file2.readlines())\n",
    "    # as we have used readlines() so readline may not work"
   ]
  },
  {
   "cell_type": "code",
   "execution_count": 50,
   "metadata": {
    "collapsed": false
   },
   "outputs": [
    {
     "name": "stdout",
     "output_type": "stream",
     "text": [
      "this is line 1\n",
      "\n",
      "how are you\n",
      "\n",
      "this is line2\n"
     ]
    }
   ],
   "source": [
    "with open('C:/Users/Dell/Desktop/testing.txt','r') as file2:\n",
    "    for i in range(n):\n",
    "        file_line = file2.readline()\n",
    "        print(file_line)"
   ]
  },
  {
   "cell_type": "code",
   "execution_count": 68,
   "metadata": {
    "collapsed": false
   },
   "outputs": [
    {
     "name": "stdout",
     "output_type": "stream",
     "text": [
      "['this is line 1\\n']\n"
     ]
    }
   ],
   "source": [
    "with open('C:/Users/Dell/Desktop/testing.txt','r') as file3:\n",
    "#     fd = file3.readlines()\n",
    "#     print(fd)\n",
    "    fd = file3.readlines(4)\n",
    "    print(fd)"
   ]
  },
  {
   "cell_type": "code",
   "execution_count": 92,
   "metadata": {
    "collapsed": false
   },
   "outputs": [
    {
     "name": "stdout",
     "output_type": "stream",
     "text": [
      "this is line 1\n",
      "\n",
      "how \n",
      "are you\n",
      "\n"
     ]
    }
   ],
   "source": [
    "with open('C:/Users/Dell/Desktop/testing.txt','r') as file4:\n",
    "    fd = file4.readline(15)\n",
    "    print(fd)\n",
    "    fd = file4.readline(4)\n",
    "    print(fd)\n",
    "    fd = file4.readline(9)\n",
    "\n",
    "    print(fd)"
   ]
  },
  {
   "cell_type": "code",
   "execution_count": 2,
   "metadata": {
    "collapsed": false
   },
   "outputs": [],
   "source": [
    "# writing in a file\n",
    "lines = ['this is line1\\n','this is line2\\n','this is line3\\n']\n",
    "with open('./ibm_python_for_data_science/example2.txt','w') as file2:\n",
    "    for line in lines:\n",
    "        file2.write(line)"
   ]
  },
  {
   "cell_type": "code",
   "execution_count": 6,
   "metadata": {
    "collapsed": false
   },
   "outputs": [],
   "source": [
    "#to append to a file\n",
    "#like here we are appending in file2\n",
    "with open('./ibm_python_for_data_science/example2.txt','a') as file:\n",
    "    for x in range(5):\n",
    "        file.write('this is line{}\\n'.format(x+4))"
   ]
  },
  {
   "cell_type": "code",
   "execution_count": null,
   "metadata": {
    "collapsed": true
   },
   "outputs": [],
   "source": [
    "#to copy a file into another file\n",
    "with open('address of source file','r') as file:\n",
    "    with open('address of destination file','w') as writefile:\n",
    "        for line in file:\n",
    "            writefile.write(line)"
   ]
  }
 ],
 "metadata": {
  "anaconda-cloud": {},
  "kernelspec": {
   "display_name": "Python [default]",
   "language": "python",
   "name": "python3"
  },
  "language_info": {
   "codemirror_mode": {
    "name": "ipython",
    "version": 3
   },
   "file_extension": ".py",
   "mimetype": "text/x-python",
   "name": "python",
   "nbconvert_exporter": "python",
   "pygments_lexer": "ipython3",
   "version": "3.5.2"
  }
 },
 "nbformat": 4,
 "nbformat_minor": 1
}
